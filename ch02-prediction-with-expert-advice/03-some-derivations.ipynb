{
 "cells": [
  {
   "cell_type": "markdown",
   "id": "29128f9c-fe94-4f47-a73f-5f4487a86df7",
   "metadata": {},
   "source": [
    "# Some derivations"
   ]
  },
  {
   "cell_type": "code",
   "execution_count": 1,
   "id": "d6f147da-23a7-409d-9118-36fd2e5c2b03",
   "metadata": {},
   "outputs": [],
   "source": [
    "from sympy import *"
   ]
  },
  {
   "cell_type": "markdown",
   "id": "9fcf5ab6-de4f-4dca-9529-8d5d6de2b37d",
   "metadata": {},
   "source": [
    "## Corollary 2.4"
   ]
  },
  {
   "cell_type": "code",
   "execution_count": 2,
   "id": "479ca213-7390-4e5f-b665-af991a5cb197",
   "metadata": {},
   "outputs": [],
   "source": [
    "eta, L, N = symbols(\"eta L_T N\")\n",
    "eta_sub = log(1 + sqrt(2 * log(N) / L))"
   ]
  },
  {
   "cell_type": "code",
   "execution_count": 3,
   "id": "3357a3e5-49e4-4379-985b-6bd53b41ab93",
   "metadata": {},
   "outputs": [
    {
     "data": {
      "text/latex": [
       "$\\displaystyle \\left(1 + e^{- \\eta}\\right) e^{\\eta}$"
      ],
      "text/plain": [
       "(1 + exp(-eta))*exp(eta)"
      ]
     },
     "execution_count": 3,
     "metadata": {},
     "output_type": "execute_result"
    }
   ],
   "source": [
    "expr = (1 + exp(-eta)) / (exp(-eta))\n",
    "expr"
   ]
  },
  {
   "cell_type": "code",
   "execution_count": 4,
   "id": "94964d87-e5fb-4f8c-bcce-c01b75a20547",
   "metadata": {},
   "outputs": [
    {
     "data": {
      "text/latex": [
       "$\\displaystyle \\frac{\\sqrt{2} \\sqrt{\\frac{\\log{\\left(N \\right)}}{L_{T}}}}{2} + 1$"
      ],
      "text/plain": [
       "sqrt(2)*sqrt(log(N)/L_T)/2 + 1"
      ]
     },
     "execution_count": 4,
     "metadata": {},
     "output_type": "execute_result"
    }
   ],
   "source": [
    "expr_sub = expr.subs({eta: eta_sub})\n",
    "expr_sub = expr_sub.simplify()\n",
    "expr_sub / 2"
   ]
  },
  {
   "cell_type": "code",
   "execution_count": 5,
   "id": "5971911f-a921-446c-a723-46e0503e4f6d",
   "metadata": {},
   "outputs": [
    {
     "data": {
      "text/latex": [
       "$\\displaystyle \\frac{1}{\\sqrt{2} \\sqrt{\\frac{\\log{\\left(N \\right)}}{L_{T}}} + 1}$"
      ],
      "text/plain": [
       "1/(sqrt(2)*sqrt(log(N)/L_T) + 1)"
      ]
     },
     "execution_count": 5,
     "metadata": {},
     "output_type": "execute_result"
    }
   ],
   "source": [
    "eta_sub = log(1 + sqrt(2 * log(N) / L))\n",
    "\n",
    "exp_eta = simplify(exp(-eta_sub))\n",
    "exp_eta"
   ]
  },
  {
   "cell_type": "code",
   "execution_count": 6,
   "id": "426f517b-9a77-45eb-a3ca-45fca1bbe526",
   "metadata": {},
   "outputs": [
    {
     "data": {
      "text/latex": [
       "$\\displaystyle \\log{\\left(N \\right)} + \\frac{\\sqrt{2} \\log{\\left(N \\right)}}{2 \\sqrt{\\frac{\\log{\\left(N \\right)}}{L_{T}}}}$"
      ],
      "text/plain": [
       "log(N) + sqrt(2)*log(N)/(2*sqrt(log(N)/L_T))"
      ]
     },
     "execution_count": 6,
     "metadata": {},
     "output_type": "execute_result"
    }
   ],
   "source": [
    "simplify(log(N) / simplify(1 - exp_eta))"
   ]
  },
  {
   "cell_type": "code",
   "execution_count": 7,
   "id": "b14a47db-fc28-49df-85aa-fad06de8f184",
   "metadata": {},
   "outputs": [
    {
     "data": {
      "text/latex": [
       "$\\displaystyle \\frac{\\sqrt{2} \\log{\\left(N \\right)}}{2 \\sqrt{\\frac{\\log{\\left(N \\right)}}{L_{T}}}}$"
      ],
      "text/plain": [
       "sqrt(2)*log(N)/(2*sqrt(log(N)/L_T))"
      ]
     },
     "execution_count": 7,
     "metadata": {},
     "output_type": "execute_result"
    }
   ],
   "source": [
    "expr1 = sqrt(2) * log(N) / (2 * sqrt(log(N) / L))\n",
    "expr1"
   ]
  },
  {
   "cell_type": "code",
   "execution_count": 8,
   "id": "d3af0c17-0970-445c-b647-d0dda6568e08",
   "metadata": {},
   "outputs": [
    {
     "data": {
      "text/latex": [
       "$\\displaystyle \\frac{\\sqrt{2} \\sqrt{L_{T}} \\sqrt{\\log{\\left(N \\right)}}}{2}$"
      ],
      "text/plain": [
       "sqrt(2)*sqrt(L_T)*sqrt(log(N))/2"
      ]
     },
     "execution_count": 8,
     "metadata": {},
     "output_type": "execute_result"
    }
   ],
   "source": [
    "expr2 = sqrt(L) * sqrt(log(N)) / sqrt(2)\n",
    "expr2"
   ]
  },
  {
   "cell_type": "code",
   "execution_count": 9,
   "id": "a8296044-7533-4c09-8b82-905a992774d4",
   "metadata": {},
   "outputs": [
    {
     "data": {
      "text/plain": [
       "False"
      ]
     },
     "execution_count": 9,
     "metadata": {},
     "output_type": "execute_result"
    }
   ],
   "source": [
    "expr1 == expr2 # See gotchas"
   ]
  },
  {
   "cell_type": "code",
   "execution_count": 10,
   "id": "0ac5eebe-cd55-43a8-adf6-c962e2adf656",
   "metadata": {},
   "outputs": [
    {
     "data": {
      "text/latex": [
       "$\\displaystyle \\sqrt{2} \\sqrt{\\log{\\left(10 \\right)}}$"
      ],
      "text/plain": [
       "sqrt(2)*sqrt(log(10))"
      ]
     },
     "execution_count": 10,
     "metadata": {},
     "output_type": "execute_result"
    }
   ],
   "source": [
    "expr1.subs({N: 10, L:4})"
   ]
  },
  {
   "cell_type": "code",
   "execution_count": 11,
   "id": "0fc3e5a7-578c-4c06-88b5-12e2df78e047",
   "metadata": {},
   "outputs": [
    {
     "data": {
      "text/latex": [
       "$\\displaystyle \\sqrt{2} \\sqrt{\\log{\\left(10 \\right)}}$"
      ],
      "text/plain": [
       "sqrt(2)*sqrt(log(10))"
      ]
     },
     "execution_count": 11,
     "metadata": {},
     "output_type": "execute_result"
    }
   ],
   "source": [
    "expr2.subs({N: 10, L:4})"
   ]
  }
 ],
 "metadata": {
  "kernelspec": {
   "display_name": "Python 3 (ipykernel)",
   "language": "python",
   "name": "python3"
  },
  "language_info": {
   "codemirror_mode": {
    "name": "ipython",
    "version": 3
   },
   "file_extension": ".py",
   "mimetype": "text/x-python",
   "name": "python",
   "nbconvert_exporter": "python",
   "pygments_lexer": "ipython3",
   "version": "3.10.12"
  }
 },
 "nbformat": 4,
 "nbformat_minor": 5
}
