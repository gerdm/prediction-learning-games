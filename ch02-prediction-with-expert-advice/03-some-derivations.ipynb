{
 "cells": [
  {
   "cell_type": "markdown",
   "id": "29128f9c-fe94-4f47-a73f-5f4487a86df7",
   "metadata": {},
   "source": [
    "# Some derivations"
   ]
  },
  {
   "cell_type": "code",
   "execution_count": 1,
   "id": "d6f147da-23a7-409d-9118-36fd2e5c2b03",
   "metadata": {},
   "outputs": [],
   "source": [
    "from sympy import *"
   ]
  },
  {
   "cell_type": "markdown",
   "id": "9fcf5ab6-de4f-4dca-9529-8d5d6de2b37d",
   "metadata": {},
   "source": [
    "## Corollary 2.4"
   ]
  },
  {
   "cell_type": "code",
   "execution_count": 2,
   "id": "479ca213-7390-4e5f-b665-af991a5cb197",
   "metadata": {},
   "outputs": [],
   "source": [
    "eta, L, N = symbols(\"eta L_T N\")\n",
    "eta_sub = log(1 + sqrt(2 * log(N) / L))"
   ]
  },
  {
   "cell_type": "code",
   "execution_count": 3,
   "id": "3357a3e5-49e4-4379-985b-6bd53b41ab93",
   "metadata": {},
   "outputs": [
    {
     "data": {
      "text/latex": [
       "$\\displaystyle \\left(1 + e^{- \\eta}\\right) e^{\\eta}$"
      ],
      "text/plain": [
       "(1 + exp(-eta))*exp(eta)"
      ]
     },
     "execution_count": 3,
     "metadata": {},
     "output_type": "execute_result"
    }
   ],
   "source": [
    "expr = (1 + exp(-eta)) / (exp(-eta))\n",
    "expr"
   ]
  },
  {
   "cell_type": "code",
   "execution_count": 4,
   "id": "94964d87-e5fb-4f8c-bcce-c01b75a20547",
   "metadata": {},
   "outputs": [
    {
     "data": {
      "text/latex": [
       "$\\displaystyle \\frac{\\sqrt{2} \\sqrt{\\frac{\\log{\\left(N \\right)}}{L_{T}}}}{2} + 1$"
      ],
      "text/plain": [
       "sqrt(2)*sqrt(log(N)/L_T)/2 + 1"
      ]
     },
     "execution_count": 4,
     "metadata": {},
     "output_type": "execute_result"
    }
   ],
   "source": [
    "expr_sub = expr.subs({eta: eta_sub})\n",
    "expr_sub = expr_sub.simplify()\n",
    "expr_sub / 2"
   ]
  },
  {
   "cell_type": "code",
   "execution_count": 5,
   "id": "5971911f-a921-446c-a723-46e0503e4f6d",
   "metadata": {},
   "outputs": [
    {
     "data": {
      "text/latex": [
       "$\\displaystyle \\frac{1}{\\sqrt{2} \\sqrt{\\frac{\\log{\\left(N \\right)}}{L_{T}}} + 1}$"
      ],
      "text/plain": [
       "1/(sqrt(2)*sqrt(log(N)/L_T) + 1)"
      ]
     },
     "execution_count": 5,
     "metadata": {},
     "output_type": "execute_result"
    }
   ],
   "source": [
    "eta_sub = log(1 + sqrt(2 * log(N) / L))\n",
    "\n",
    "exp_eta = simplify(exp(-eta_sub))\n",
    "exp_eta"
   ]
  },
  {
   "cell_type": "code",
   "execution_count": 6,
   "id": "426f517b-9a77-45eb-a3ca-45fca1bbe526",
   "metadata": {},
   "outputs": [
    {
     "data": {
      "text/latex": [
       "$\\displaystyle \\log{\\left(N \\right)} + \\frac{\\sqrt{2} \\log{\\left(N \\right)}}{2 \\sqrt{\\frac{\\log{\\left(N \\right)}}{L_{T}}}}$"
      ],
      "text/plain": [
       "log(N) + sqrt(2)*log(N)/(2*sqrt(log(N)/L_T))"
      ]
     },
     "execution_count": 6,
     "metadata": {},
     "output_type": "execute_result"
    }
   ],
   "source": [
    "simplify(log(N) / simplify(1 - exp_eta))"
   ]
  },
  {
   "cell_type": "code",
   "execution_count": 7,
   "id": "b14a47db-fc28-49df-85aa-fad06de8f184",
   "metadata": {},
   "outputs": [
    {
     "data": {
      "text/latex": [
       "$\\displaystyle \\frac{\\sqrt{2} \\log{\\left(N \\right)}}{2 \\sqrt{\\frac{\\log{\\left(N \\right)}}{L_{T}}}}$"
      ],
      "text/plain": [
       "sqrt(2)*log(N)/(2*sqrt(log(N)/L_T))"
      ]
     },
     "execution_count": 7,
     "metadata": {},
     "output_type": "execute_result"
    }
   ],
   "source": [
    "expr1 = sqrt(2) * log(N) / (2 * sqrt(log(N) / L))\n",
    "expr1"
   ]
  },
  {
   "cell_type": "code",
   "execution_count": 8,
   "id": "d3af0c17-0970-445c-b647-d0dda6568e08",
   "metadata": {},
   "outputs": [
    {
     "data": {
      "text/latex": [
       "$\\displaystyle \\frac{\\sqrt{2} \\sqrt{L_{T}} \\sqrt{\\log{\\left(N \\right)}}}{2}$"
      ],
      "text/plain": [
       "sqrt(2)*sqrt(L_T)*sqrt(log(N))/2"
      ]
     },
     "execution_count": 8,
     "metadata": {},
     "output_type": "execute_result"
    }
   ],
   "source": [
    "expr2 = sqrt(L) * sqrt(log(N)) / sqrt(2)\n",
    "expr2"
   ]
  },
  {
   "cell_type": "code",
   "execution_count": 9,
   "id": "a8296044-7533-4c09-8b82-905a992774d4",
   "metadata": {},
   "outputs": [
    {
     "data": {
      "text/plain": [
       "False"
      ]
     },
     "execution_count": 9,
     "metadata": {},
     "output_type": "execute_result"
    }
   ],
   "source": [
    "expr1 == expr2 # See gotchas"
   ]
  },
  {
   "cell_type": "code",
   "execution_count": 10,
   "id": "0ac5eebe-cd55-43a8-adf6-c962e2adf656",
   "metadata": {},
   "outputs": [
    {
     "data": {
      "text/latex": [
       "$\\displaystyle \\sqrt{2} \\sqrt{\\log{\\left(10 \\right)}}$"
      ],
      "text/plain": [
       "sqrt(2)*sqrt(log(10))"
      ]
     },
     "execution_count": 10,
     "metadata": {},
     "output_type": "execute_result"
    }
   ],
   "source": [
    "expr1.subs({N: 10, L:4})"
   ]
  },
  {
   "cell_type": "code",
   "execution_count": 11,
   "id": "0fc3e5a7-578c-4c06-88b5-12e2df78e047",
   "metadata": {},
   "outputs": [
    {
     "data": {
      "text/latex": [
       "$\\displaystyle \\sqrt{2} \\sqrt{\\log{\\left(10 \\right)}}$"
      ],
      "text/plain": [
       "sqrt(2)*sqrt(log(10))"
      ]
     },
     "execution_count": 11,
     "metadata": {},
     "output_type": "execute_result"
    }
   ],
   "source": [
    "expr2.subs({N: 10, L:4})"
   ]
  },
  {
   "cell_type": "markdown",
   "id": "dc43fa94-93bf-4bed-b1e5-70f9d9dfdc36",
   "metadata": {},
   "source": [
    "# Theorem 2.6\n",
    "\n",
    "Theorem 2.6 states that, for a random variable, $X_t$ such that\n",
    "$$\n",
    "    p(X_t = h(f_{e,t}, y_t)) = \\frac{w_{e,t-1}}{W_{t-1}}\n",
    "$$\n",
    "with\n",
    "* $W_{t-1} = \\sum_{e=1}^E w_{e,t-1}$,\n",
    "* $w_{e,t-1} = \\exp(\\eta_tH_{e, t-1})$, and\n",
    "* $H_{e,t-1} = \\sum_{\\tau=1}^{t-1} h(f_{e, t-1}, y_{t-1})$\n",
    "\n",
    "Then, the value of\n",
    "$$\n",
    "    V_{\\hat\\tau} =\n",
    "    \\sum_{t=1}^{\\hat\\tau}\\mathbb{V}[X_t] =\n",
    "    \\sum_{t=1}^{\\hat\\tau}\\mathbb{E}\\left[(X_t - \\mathbb{E}[X_t])^2\\right]\n",
    "$$\n",
    "\n",
    "is bounded (above and below) by\n",
    "$$\n",
    "    M^2 \\leq V_{\\hat t} \\leq 2M^2\n",
    "$$\n",
    "\n",
    "whenever $h$ is an $[-M, M]$-valued payoff function concave in its first argument."
   ]
  },
  {
   "cell_type": "code",
   "execution_count": 1,
   "id": "a2e25c90-5026-475a-901d-a53b8e1e02ab",
   "metadata": {
    "tags": []
   },
   "outputs": [],
   "source": [
    "import numpy as np\n",
    "import matplotlib.pyplot as plt"
   ]
  },
  {
   "cell_type": "code",
   "execution_count": 2,
   "id": "1336f41c-a521-424c-84bd-ab0beb468257",
   "metadata": {
    "tags": []
   },
   "outputs": [],
   "source": [
    "%config InlineBackend.figure_format = \"retina\""
   ]
  },
  {
   "cell_type": "code",
   "execution_count": 7,
   "id": "0758ef63-790a-4f66-a6e0-85425edcfcb9",
   "metadata": {
    "tags": []
   },
   "outputs": [],
   "source": [
    "M = 1\n",
    "def h(x):\n",
    "    val = np.exp(-x ** 2)\n",
    "    return np.clip(val, -M, M)"
   ]
  },
  {
   "cell_type": "code",
   "execution_count": 10,
   "id": "e5b25fb3-42b0-46a1-978c-0b55487facda",
   "metadata": {
    "tags": []
   },
   "outputs": [
    {
     "data": {
      "image/png": "[encoded data removed]",
      "text/plain": [
       "<Figure size 640x480 with 1 Axes>"
      ]
     },
     "metadata": {
      "image/png": {
       "height": 413,
       "width": 547
      }
     },
     "output_type": "display_data"
    }
   ],
   "source": [
    "xvals = np.linspace(-3, 3, 100)\n",
    "plt.plot(xvals, h(xvals))\n",
    "plt.grid(alpha=0.4)"
   ]
  }
 ],
 "metadata": {
  "kernelspec": {
   "display_name": "Python 3 (ipykernel)",
   "language": "python",
   "name": "python3"
  },
  "language_info": {
   "codemirror_mode": {
    "name": "ipython",
    "version": 3
   },
   "file_extension": ".py",
   "mimetype": "text/x-python",
   "name": "python",
   "nbconvert_exporter": "python",
   "pygments_lexer": "ipython3",
   "version": "3.10.12"
  }
 },
 "nbformat": 4,
 "nbformat_minor": 5
}
