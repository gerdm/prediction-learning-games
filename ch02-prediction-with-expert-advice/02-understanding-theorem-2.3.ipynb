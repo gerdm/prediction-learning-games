{
 "cells": [
  {
   "cell_type": "markdown",
   "id": "7bb5a463-6e58-456c-9688-c25807963a2b",
   "metadata": {},
   "source": [
    "## Theorem 2.3: Exponentially-weighted forecaster with time-varying potential\n",
    "\n",
    "* $\\ell: \\cdot\\times\\cdot \\to [0, 1]$\n",
    "* $L_{e,t} = \\sum_{\\tau=1}^T \\ell(f_{e,\\tau}, y_\\tau)$\n",
    "* $\\eta_t = \\sqrt{a (\\log E) / t}$\n",
    "\n",
    "* $w_{e, t} = \\exp(-\\eta_t L_{e, t-1})$\n",
    "* $W_t = \\sum_{e=1}^E w_{e,t}$"
   ]
  },
  {
   "cell_type": "code",
   "execution_count": 16,
   "id": "98909306-2f14-4459-9141-2c16adfd90a0",
   "metadata": {},
   "outputs": [],
   "source": [
    "import jax\n",
    "import jax.numpy as jnp\n",
    "from plgx import datasets"
   ]
  },
  {
   "cell_type": "code",
   "execution_count": 4,
   "id": "6a64e751-3b58-4f45-961f-71c4e5ddd2ef",
   "metadata": {},
   "outputs": [],
   "source": [
    "%load_ext autoreload\n",
    "%autoreload 2"
   ]
  },
  {
   "cell_type": "code",
   "execution_count": 11,
   "id": "30a4bcda-e844-41a5-a13c-b09ab0c916c2",
   "metadata": {},
   "outputs": [],
   "source": [
    "def loss(yhat, y):\n",
    "    return (yhat - y) ** 2"
   ]
  },
  {
   "cell_type": "code",
   "execution_count": 46,
   "id": "259cc78d-513e-447b-84e0-aff8e69cb30c",
   "metadata": {},
   "outputs": [],
   "source": [
    "key = jax.random.PRNGKey(314)\n",
    "n_experts = 5\n",
    "n_timesteps = 20"
   ]
  },
  {
   "cell_type": "code",
   "execution_count": 47,
   "id": "dcd447bc-8142-4322-b7c0-d6836bb45724",
   "metadata": {},
   "outputs": [],
   "source": [
    "oracle, experts = datasets.bern_oracle_beta_forecasters(key, n_experts, n_timesteps)"
   ]
  },
  {
   "cell_type": "markdown",
   "id": "f1e5108a-f3a2-4ff9-8511-d9479211a651",
   "metadata": {},
   "source": [
    "## Building weight terms"
   ]
  },
  {
   "cell_type": "code",
   "execution_count": 48,
   "id": "48d39ae1-9dde-415c-9bd0-810c45dbf4f1",
   "metadata": {},
   "outputs": [],
   "source": [
    "a = 8\n",
    "eta_array = jnp.sqrt(a * jnp.log(n_experts) / jnp.arange(1, n_timesteps + 1))"
   ]
  },
  {
   "cell_type": "code",
   "execution_count": 49,
   "id": "61031e12-6274-491b-bd18-91aa748b52cd",
   "metadata": {},
   "outputs": [],
   "source": [
    "losses_experts = jax.vmap(loss)(experts, oracle).cumsum(axis=0)\n",
    "losses_experts_shift = jnp.roll(losses_experts, 1)\n",
    "losses_experts_shift = losses_experts_shift.at[0].set(jnp.zeros(n_experts))\n",
    "\n",
    "weights_experts = jnp.exp(- eta_array[:, None] * losses_experts_shift)\n",
    "W = jnp.sum(weights_experts, axis=1)"
   ]
  },
  {
   "cell_type": "markdown",
   "id": "7cde037d-28af-415a-9816-48ef92f18e05",
   "metadata": {},
   "source": [
    "## A value for subterms in (C)"
   ]
  },
  {
   "cell_type": "code",
   "execution_count": 77,
   "id": "2df2d593-7fbe-4134-808e-4434abc95ea9",
   "metadata": {},
   "outputs": [],
   "source": [
    "eta_init = eta_array[0]\n",
    "eta_final = jnp.sqrt(a * jnp.log(n_experts) / (n_timesteps + 1))"
   ]
  },
  {
   "cell_type": "code",
   "execution_count": 83,
   "id": "72209af2-2be5-4bba-876a-4446025a6462",
   "metadata": {},
   "outputs": [],
   "source": [
    "# wk0,0\n",
    "v0 = jnp.log(weights_experts[0].max() / W[0]) / eta_init\n",
    "\n",
    "# wkT,T\n",
    "vT = jnp.log(weights_experts[-1].max() / W[-1]) / eta_final"
   ]
  },
  {
   "cell_type": "code",
   "execution_count": 85,
   "id": "6ca0f63f-eef0-4fc4-bd24-e9a034ad875d",
   "metadata": {},
   "outputs": [
    {
     "data": {
      "text/plain": [
       "Array(0.37117782, dtype=float32)"
      ]
     },
     "execution_count": 85,
     "metadata": {},
     "output_type": "execute_result"
    }
   ],
   "source": [
    "vT - v0"
   ]
  },
  {
   "cell_type": "code",
   "execution_count": 86,
   "id": "29c3b890-4d74-425d-96a1-4108e5c78f93",
   "metadata": {},
   "outputs": [
    {
     "data": {
      "text/plain": [
       "Array(0.4485337, dtype=float32)"
      ]
     },
     "execution_count": 86,
     "metadata": {},
     "output_type": "execute_result"
    }
   ],
   "source": [
    "-v0"
   ]
  },
  {
   "cell_type": "code",
   "execution_count": 60,
   "id": "8207b323-cd7f-411f-8279-e06df68cfa63",
   "metadata": {},
   "outputs": [
    {
     "data": {
      "text/plain": [
       "Array(5., dtype=float32)"
      ]
     },
     "execution_count": 60,
     "metadata": {},
     "output_type": "execute_result"
    }
   ],
   "source": [
    "W[0]"
   ]
  },
  {
   "cell_type": "code",
   "execution_count": 58,
   "id": "d9debd55-82f4-4524-93fe-571f24ed6c6f",
   "metadata": {},
   "outputs": [
    {
     "data": {
      "text/plain": [
       "Array([0.2       , 0.4469792 , 0.4409532 , 0.73271656, 0.7792208 ,\n",
       "       0.74584234, 0.42947865, 0.43380028, 0.47606495, 0.69641376,\n",
       "       0.7185959 , 0.84227335, 0.8290735 , 0.8161625 , 0.81379384,\n",
       "       0.90331763, 0.89483076, 0.90217525, 0.94261026, 0.94122565],      dtype=float32)"
      ]
     },
     "execution_count": 58,
     "metadata": {},
     "output_type": "execute_result"
    }
   ],
   "source": [
    "weights_experts.max(axis=1) / W"
   ]
  },
  {
   "cell_type": "code",
   "execution_count": 59,
   "id": "f765d276-dde4-47b2-9e6a-7f8cd6fd0df6",
   "metadata": {},
   "outputs": [
    {
     "data": {
      "text/plain": [
       "Array([2.0000000e-01, 3.5347193e-02, 6.9975574e-03, 3.3681134e-03,\n",
       "       1.2704872e-03, 2.1273864e-03, 1.8919660e-03, 7.6288939e-04,\n",
       "       3.6385976e-04, 2.4733072e-04, 3.6934300e-04, 5.9761707e-04,\n",
       "       2.8899414e-04, 3.8005877e-04, 1.9462570e-04, 2.8152476e-04,\n",
       "       3.5490154e-04, 1.9150849e-04, 2.5072301e-04, 3.0837773e-04],      dtype=float32)"
      ]
     },
     "execution_count": 59,
     "metadata": {},
     "output_type": "execute_result"
    }
   ],
   "source": [
    "weights_experts.min(axis=1) / W"
   ]
  }
 ],
 "metadata": {
  "kernelspec": {
   "display_name": "Python 3 (ipykernel)",
   "language": "python",
   "name": "python3"
  },
  "language_info": {
   "codemirror_mode": {
    "name": "ipython",
    "version": 3
   },
   "file_extension": ".py",
   "mimetype": "text/x-python",
   "name": "python",
   "nbconvert_exporter": "python",
   "pygments_lexer": "ipython3",
   "version": "3.10.12"
  }
 },
 "nbformat": 4,
 "nbformat_minor": 5
}
