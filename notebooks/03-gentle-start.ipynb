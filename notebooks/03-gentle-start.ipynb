{
 "cells": [
  {
   "cell_type": "markdown",
   "id": "443c426e-b989-476b-b426-0ff627e99a36",
   "metadata": {},
   "source": [
    "# A Gentle start: example"
   ]
  },
  {
   "cell_type": "code",
   "execution_count": 1,
   "id": "41ed98de-154c-4b81-81b1-990146f3ac83",
   "metadata": {},
   "outputs": [],
   "source": [
    "import jax\n",
    "import jax.numpy as jnp\n",
    "import matplotlib.pyplot as plt"
   ]
  },
  {
   "cell_type": "code",
   "execution_count": 2,
   "id": "4b157f3a-e595-46e5-aef7-5634e456d069",
   "metadata": {},
   "outputs": [],
   "source": [
    "%config InlineBackend.figure_format = \"retina\""
   ]
  },
  {
   "cell_type": "code",
   "execution_count": 3,
   "id": "d2685d04-2ff2-4c46-873e-300e7bfb5f3f",
   "metadata": {},
   "outputs": [],
   "source": [
    "key = jax.random.PRNGKey(314)\n",
    "key_oracle, key_experts = jax.random.split(key)\n",
    "n_experts = 2 ** 5\n",
    "n_timesteps = 100\n",
    "true_expert_where = 10\n",
    "\n",
    "oracle = jax.random.bernoulli(key_oracle, p=0.6, shape=(n_timesteps,))\n",
    "experts = jax.random.bernoulli(key_experts, p=0.6, shape=(n_timesteps, n_experts))\n",
    "# Insert the one true expert to the list of experts\n",
    "experts = jnp.insert(experts, true_expert_where, oracle, axis=1)"
   ]
  },
  {
   "cell_type": "code",
   "execution_count": 4,
   "id": "5dd9764b-9796-4e98-a49f-9397982632f2",
   "metadata": {},
   "outputs": [],
   "source": [
    "def update_weights(y, weights, experts, n_errors):\n",
    "    \"\"\"\n",
    "    We filter where the choice of an expert aligns\n",
    "    with the true value only if the expert has not already\n",
    "    a mistake in the past\n",
    "    \"\"\"\n",
    "    filter_experts = experts == y\n",
    "    weights = filter_experts * weights\n",
    "    return weights, n_errors + 1\n",
    "    \n",
    "\n",
    "def step(state, xs):\n",
    "    \"\"\"\n",
    "    At every timestep we compute the compute the\n",
    "    predicted expert choice based on the still-credible\n",
    "    experts. We then update the weights only if the aggregate\n",
    "    prediction is the true prediction\n",
    "    \"\"\"\n",
    "    weights, n_errors = state\n",
    "    experts, y = xs\n",
    "    \n",
    "    expert_choice = (weights * experts).sum() / weights.sum()\n",
    "    expert_choice = round(expert_choice) == y\n",
    "\n",
    "    weights, n_errors = jax.lax.cond(\n",
    "        expert_choice,\n",
    "        lambda *_: (weights, n_errors),\n",
    "        update_weights,\n",
    "        y, weights, experts, n_errors\n",
    "    )\n",
    "\n",
    "    out = {\n",
    "        \"weights\": weights,\n",
    "    }\n",
    "\n",
    "    new_state = (weights, n_errors) \n",
    "    return new_state, out"
   ]
  },
  {
   "cell_type": "code",
   "execution_count": 5,
   "id": "b343d7cd-ab98-423f-85ff-a7da105e24b9",
   "metadata": {},
   "outputs": [],
   "source": [
    "w_init = jnp.ones(n_experts + 1)\n",
    "state_init = (w_init, 0)\n",
    "xs = (experts, oracle)\n",
    "\n",
    "(w_last, n_errors), hist = jax.lax.scan(step, state_init, xs)\n",
    "weights_hist = hist[\"weights\"]"
   ]
  },
  {
   "cell_type": "code",
   "execution_count": 6,
   "id": "c8d7bb84-7eea-475d-80b0-27b18dd01375",
   "metadata": {},
   "outputs": [
    {
     "data": {
      "text/plain": [
       "Array(4, dtype=int32, weak_type=True)"
      ]
     },
     "execution_count": 6,
     "metadata": {},
     "output_type": "execute_result"
    }
   ],
   "source": [
    "n_errors"
   ]
  },
  {
   "cell_type": "code",
   "execution_count": 7,
   "id": "66f5b071-1b20-45aa-aa29-d91e7e1dc9f7",
   "metadata": {},
   "outputs": [
    {
     "data": {
      "text/plain": [
       "Array(5., dtype=float32)"
      ]
     },
     "execution_count": 7,
     "metadata": {},
     "output_type": "execute_result"
    }
   ],
   "source": [
    "jnp.floor(jnp.log2(n_experts))"
   ]
  },
  {
   "cell_type": "code",
   "execution_count": 8,
   "id": "f0b704fe-ffbb-4bf3-b668-4b054137f80c",
   "metadata": {},
   "outputs": [
    {
     "data": {
      "text/plain": [
       "Array([33., 33., 16., 16.,  6.,  6.,  6.,  6.,  6.,  6.,  6.,  6.,  2.,\n",
       "        2.,  1.,  1.,  1.,  1.,  1.,  1.,  1.,  1.,  1.,  1.,  1.,  1.,\n",
       "        1.,  1.,  1.,  1.,  1.,  1.,  1.,  1.,  1.,  1.,  1.,  1.,  1.,\n",
       "        1.,  1.,  1.,  1.,  1.,  1.,  1.,  1.,  1.,  1.,  1.,  1.,  1.,\n",
       "        1.,  1.,  1.,  1.,  1.,  1.,  1.,  1.,  1.,  1.,  1.,  1.,  1.,\n",
       "        1.,  1.,  1.,  1.,  1.,  1.,  1.,  1.,  1.,  1.,  1.,  1.,  1.,\n",
       "        1.,  1.,  1.,  1.,  1.,  1.,  1.,  1.,  1.,  1.,  1.,  1.,  1.,\n",
       "        1.,  1.,  1.,  1.,  1.,  1.,  1.,  1.,  1.], dtype=float32)"
      ]
     },
     "execution_count": 8,
     "metadata": {},
     "output_type": "execute_result"
    }
   ],
   "source": [
    "weights_hist.sum(axis=1)"
   ]
  },
  {
   "cell_type": "markdown",
   "id": "1b587b62-24ca-475c-b3b7-62935647cec2",
   "metadata": {},
   "source": [
    "## Imperfect expert"
   ]
  },
  {
   "cell_type": "code",
   "execution_count": 12,
   "id": "d31cd08a-f3f9-496c-a843-33b7c40c65b4",
   "metadata": {},
   "outputs": [],
   "source": [
    "key = jax.random.PRNGKey(314)\n",
    "\n",
    "key_oracle, key_experts, key_noise = jax.random.split(key, 3)\n",
    "\n",
    "n_experts = 2 ** 5\n",
    "n_timesteps = 100\n",
    "true_expert_where = 10\n",
    "\n",
    "beta = 0.7\n",
    "oracle = jax.random.bernoulli(key_oracle, p=0.5, shape=(n_timesteps,))\n",
    "experts = jax.random.bernoulli(key_experts, p=0.5, shape=(n_timesteps, n_experts))\n",
    "\n",
    "# Insert the one true expert to the list of experts\n",
    "experts = jnp.insert(experts, true_expert_where, oracle, axis=1)"
   ]
  },
  {
   "cell_type": "code",
   "execution_count": 43,
   "id": "37ad6c23-5b9a-4c7c-b30d-e10f2ce5bdf8",
   "metadata": {},
   "outputs": [],
   "source": [
    "p_mistake = 0.1\n",
    "mistakes = jax.random.bernoulli(key_noise, p=p_mistake, shape=(n_timesteps,))\n",
    "true_expert  = oracle ^ mistakes # Flip bit if mistake"
   ]
  }
 ],
 "metadata": {
  "kernelspec": {
   "display_name": "Python 3 (ipykernel)",
   "language": "python",
   "name": "python3"
  },
  "language_info": {
   "codemirror_mode": {
    "name": "ipython",
    "version": 3
   },
   "file_extension": ".py",
   "mimetype": "text/x-python",
   "name": "python",
   "nbconvert_exporter": "python",
   "pygments_lexer": "ipython3",
   "version": "3.10.12"
  }
 },
 "nbformat": 4,
 "nbformat_minor": 5
}
