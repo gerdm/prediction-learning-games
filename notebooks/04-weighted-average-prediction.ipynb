{
 "cells": [
  {
   "cell_type": "markdown",
   "id": "7fac5b07-1e17-4e31-a448-4b749f243ec4",
   "metadata": {},
   "source": [
    "## Understanding Theorem 2.1"
   ]
  },
  {
   "cell_type": "code",
   "execution_count": 1,
   "id": "e5f9fbc3-c225-47b6-b6b6-4072112ccc36",
   "metadata": {},
   "outputs": [],
   "source": [
    "import jax\n",
    "import jax.numpy as jnp"
   ]
  },
  {
   "cell_type": "code",
   "execution_count": 8,
   "id": "c2954267-4e94-45a6-ad3b-747e2f1c686d",
   "metadata": {},
   "outputs": [],
   "source": [
    "key = jax.random.PRNGKey(314)\n",
    "timesteps = 1\n",
    "n_samples = 10\n",
    "\n",
    "r = jax.random.uniform(key, (timesteps, n_samples))"
   ]
  },
  {
   "cell_type": "code",
   "execution_count": 10,
   "id": "6debee6f-0a23-4529-9475-02911a9274f2",
   "metadata": {},
   "outputs": [],
   "source": [
    "p = 3"
   ]
  },
  {
   "cell_type": "code",
   "execution_count": 15,
   "id": "645e1be7-551a-4c8b-9c98-5a8309f3c59b",
   "metadata": {},
   "outputs": [
    {
     "data": {
      "text/plain": [
       "Array([3.5426347], dtype=float32)"
      ]
     },
     "execution_count": 15,
     "metadata": {},
     "output_type": "execute_result"
    }
   ],
   "source": [
    "jnp.power(jnp.sum(r ** 2, axis=1), p / 2)"
   ]
  },
  {
   "cell_type": "code",
   "execution_count": 19,
   "id": "03fc76cb-6ca5-45fd-a178-4ba2688ee7b2",
   "metadata": {},
   "outputs": [
    {
     "data": {
      "text/plain": [
       "Array([3.5426347], dtype=float32)"
      ]
     },
     "execution_count": 19,
     "metadata": {},
     "output_type": "execute_result"
    }
   ],
   "source": [
    "jnp.power(jnp.sum(jnp.abs(r) * jnp.abs(r), axis=1), p / 2)"
   ]
  },
  {
   "cell_type": "code",
   "execution_count": 16,
   "id": "8e3980c7-f1fb-4864-b159-326869ef6757",
   "metadata": {},
   "outputs": [
    {
     "data": {
      "text/plain": [
       "Array([1.6429579], dtype=float32)"
      ]
     },
     "execution_count": 16,
     "metadata": {},
     "output_type": "execute_result"
    }
   ],
   "source": [
    "jnp.power(jnp.sum(jnp.abs(r) ** p, axis=1), p / 2)"
   ]
  }
 ],
 "metadata": {
  "kernelspec": {
   "display_name": "Python 3 (ipykernel)",
   "language": "python",
   "name": "python3"
  },
  "language_info": {
   "codemirror_mode": {
    "name": "ipython",
    "version": 3
   },
   "file_extension": ".py",
   "mimetype": "text/x-python",
   "name": "python",
   "nbconvert_exporter": "python",
   "pygments_lexer": "ipython3",
   "version": "3.10.12"
  }
 },
 "nbformat": 4,
 "nbformat_minor": 5
}
